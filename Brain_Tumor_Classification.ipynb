{
  "nbformat": 4,
  "nbformat_minor": 0,
  "metadata": {
    "colab": {
      "provenance": [],
      "gpuType": "T4"
    },
    "kernelspec": {
      "name": "python3",
      "display_name": "Python 3"
    },
    "language_info": {
      "name": "python"
    },
    "accelerator": "GPU"
  },
  "cells": [
    {
      "cell_type": "code",
      "execution_count": null,
      "metadata": {
        "id": "seaJbEX1xi5B"
      },
      "outputs": [],
      "source": [
        "import numpy as np\n",
        "import pandas as pd\n",
        "import matplotlib.pyplot as plt\n",
        "from tensorflow import keras\n",
        "import tensorflow as tf\n",
        "import cv2, pathlib"
      ]
    },
    {
      "cell_type": "code",
      "source": [
        "# Import Drive\n",
        "from google.colab import drive\n",
        "drive.mount('/content/drive')"
      ],
      "metadata": {
        "colab": {
          "base_uri": "https://localhost:8080/"
        },
        "id": "A0EjdKozyoG7",
        "outputId": "1fcf9f51-09d8-400f-d630-20b90ee60878"
      },
      "execution_count": null,
      "outputs": [
        {
          "output_type": "stream",
          "name": "stdout",
          "text": [
            "Mounted at /content/drive\n"
          ]
        }
      ]
    },
    {
      "cell_type": "code",
      "source": [
        "data_path = pathlib.Path('/content/drive/My Drive/data_tumor')\n",
        "data_path"
      ],
      "metadata": {
        "colab": {
          "base_uri": "https://localhost:8080/"
        },
        "id": "zYrpmV5-yu0o",
        "outputId": "74f948ce-85e2-47a2-99fa-619fed62e40c"
      },
      "execution_count": null,
      "outputs": [
        {
          "output_type": "execute_result",
          "data": {
            "text/plain": [
              "PosixPath('/content/drive/My Drive/data_tumor')"
            ]
          },
          "metadata": {},
          "execution_count": 3
        }
      ]
    },
    {
      "cell_type": "code",
      "source": [
        "classification_image = {\n",
        "    'glioma_tumor' : list(data_path.glob('glioma_tumor/*')),\n",
        "    'meningioma_tumor' : list(data_path.glob('meningioma_tumor/*')),\n",
        "    'normal' : list(data_path.glob('normal/*')),\n",
        "    'pituitary_tumor' : list(data_path.glob('pituitary_tumor/*'))\n",
        "}\n",
        "\n",
        "classification_code = {\n",
        "    'glioma_tumor' : 0,\n",
        "    'meningioma_tumor' : 1,\n",
        "    'normal' : 2,\n",
        "    'pituitary_tumor' : 3,\n",
        "}"
      ],
      "metadata": {
        "id": "-Zy2ekEIzH7s"
      },
      "execution_count": null,
      "outputs": []
    },
    {
      "cell_type": "code",
      "source": [
        "x, y = [], []\n",
        "\n",
        "for jenis, isi in classification_image.items():\n",
        "  for data in isi:\n",
        "    img = cv2.imread(str(data))\n",
        "    # img_final = cv2.rescale(img, (256,256))\n",
        "    x.append(img)\n",
        "    y.append(classification_code[jenis])\n",
        "\n",
        "x = np.array(x)\n",
        "y = np.array(y)"
      ],
      "metadata": {
        "id": "3f2nhngI0aXQ"
      },
      "execution_count": null,
      "outputs": []
    },
    {
      "cell_type": "code",
      "source": [
        "from sklearn.model_selection import train_test_split\n",
        "\n",
        "x_train, x_test, y_train, y_test = train_test_split(x,y, test_size=0.3, random_state=42)"
      ],
      "metadata": {
        "id": "nezciZxP1LJJ"
      },
      "execution_count": null,
      "outputs": []
    },
    {
      "cell_type": "code",
      "source": [
        "data_generator = keras.preprocessing.image.ImageDataGenerator(\n",
        "    rescale = 1./255,\n",
        "    horizontal_flip= True,\n",
        "    vertical_flip = True,\n",
        "    zoom_range = 0.3,\n",
        "    rotation_range = 40,\n",
        "    fill_mode = 'nearest'\n",
        ")\n",
        "\n",
        "train_dataset = data_generator.flow(\n",
        "    x_train,\n",
        "    y_train\n",
        ")\n",
        "\n",
        "valid_dataset = data_generator.flow(\n",
        "    x_test,\n",
        "    y_test\n",
        ")"
      ],
      "metadata": {
        "id": "67IGmnd0z_bC"
      },
      "execution_count": null,
      "outputs": []
    },
    {
      "cell_type": "markdown",
      "source": [
        "Perancangan Model"
      ],
      "metadata": {
        "id": "ieSuYBqi1uXl"
      }
    },
    {
      "cell_type": "code",
      "source": [
        "# Layer Input\n",
        "input_layer = keras.layers.Input(shape=(256,256,3))\n",
        "\n",
        "# Convolutional Layer\n",
        "conv1 = keras.layers.Conv2D(32, (3,3), activation='relu', padding='valid')(input_layer)\n",
        "max_pool1 = keras.layers.MaxPool2D(2,2)(conv1)\n",
        "conv2 = keras.layers.Conv2D(64, (3,3), activation='relu', padding='valid')(max_pool1)\n",
        "max_pool2 = keras.layers.MaxPool2D(2,2)(conv2)\n",
        "conv3 = keras.layers.Conv2D(64, (3,3), activation='relu', padding='valid')(max_pool2)\n",
        "max_pool3 = keras.layers.MaxPool2D(2,2)(conv3)\n",
        "conv4 = keras.layers.Conv2D(128, (3,3), activation='relu', padding='valid')(max_pool3)\n",
        "max_pool4 = keras.layers.MaxPool2D(2,2)(conv4)\n",
        "\n",
        "# Dense dan Hidden Layer\n",
        "flatten = keras.layers.Flatten()(max_pool4)\n",
        "Hidden_Layer1 = keras.layers.Dense(512, activation='relu')(flatten)\n",
        "Hidden_Layer2 = keras.layers.Dense(256, activation='relu')(Hidden_Layer1)\n",
        "output_layer = keras.layers.Dense(4, activation='softmax')(Hidden_Layer2)\n",
        "\n",
        "# Pembuatan Model\n",
        "model = keras.models.Model(inputs=[input_layer], outputs=[output_layer])"
      ],
      "metadata": {
        "id": "O5y4Wh-I1xrU"
      },
      "execution_count": null,
      "outputs": []
    },
    {
      "cell_type": "code",
      "source": [
        "model.compile(\n",
        "    optimizer = 'adam',\n",
        "    loss = keras.losses.SparseCategoricalCrossentropy(),\n",
        "    metrics = ['accuracy']\n",
        ")\n",
        "\n",
        "model.summary()"
      ],
      "metadata": {
        "colab": {
          "base_uri": "https://localhost:8080/"
        },
        "id": "Ehji4mKK5dQ0",
        "outputId": "355d69b3-01ad-4065-dea4-4ec88ca80dbb"
      },
      "execution_count": null,
      "outputs": [
        {
          "output_type": "stream",
          "name": "stdout",
          "text": [
            "Model: \"model\"\n",
            "_________________________________________________________________\n",
            " Layer (type)                Output Shape              Param #   \n",
            "=================================================================\n",
            " input_1 (InputLayer)        [(None, 256, 256, 3)]     0         \n",
            "                                                                 \n",
            " conv2d (Conv2D)             (None, 254, 254, 32)      896       \n",
            "                                                                 \n",
            " max_pooling2d (MaxPooling2  (None, 127, 127, 32)      0         \n",
            " D)                                                              \n",
            "                                                                 \n",
            " conv2d_1 (Conv2D)           (None, 125, 125, 64)      18496     \n",
            "                                                                 \n",
            " max_pooling2d_1 (MaxPoolin  (None, 62, 62, 64)        0         \n",
            " g2D)                                                            \n",
            "                                                                 \n",
            " conv2d_2 (Conv2D)           (None, 60, 60, 64)        36928     \n",
            "                                                                 \n",
            " max_pooling2d_2 (MaxPoolin  (None, 30, 30, 64)        0         \n",
            " g2D)                                                            \n",
            "                                                                 \n",
            " conv2d_3 (Conv2D)           (None, 28, 28, 128)       73856     \n",
            "                                                                 \n",
            " max_pooling2d_3 (MaxPoolin  (None, 14, 14, 128)       0         \n",
            " g2D)                                                            \n",
            "                                                                 \n",
            " flatten (Flatten)           (None, 25088)             0         \n",
            "                                                                 \n",
            " dense (Dense)               (None, 512)               12845568  \n",
            "                                                                 \n",
            " dense_1 (Dense)             (None, 256)               131328    \n",
            "                                                                 \n",
            " dense_2 (Dense)             (None, 4)                 1028      \n",
            "                                                                 \n",
            "=================================================================\n",
            "Total params: 13108100 (50.00 MB)\n",
            "Trainable params: 13108100 (50.00 MB)\n",
            "Non-trainable params: 0 (0.00 Byte)\n",
            "_________________________________________________________________\n"
          ]
        }
      ]
    },
    {
      "cell_type": "code",
      "source": [
        "model.fit(\n",
        "    train_dataset,\n",
        "    verbose=1,\n",
        "    epochs=50,\n",
        "    validation_data=valid_dataset\n",
        ")"
      ],
      "metadata": {
        "colab": {
          "base_uri": "https://localhost:8080/"
        },
        "id": "Y88u1k4v5n9s",
        "outputId": "adec8c6f-b12a-4356-a136-df4465318b81"
      },
      "execution_count": null,
      "outputs": [
        {
          "output_type": "stream",
          "name": "stdout",
          "text": [
            "Epoch 1/50\n",
            "68/68 [==============================] - 71s 854ms/step - loss: 1.3699 - accuracy: 0.2985 - val_loss: 1.3473 - val_accuracy: 0.3691\n",
            "Epoch 2/50\n",
            "68/68 [==============================] - 56s 835ms/step - loss: 1.2741 - accuracy: 0.3753 - val_loss: 1.1977 - val_accuracy: 0.4002\n",
            "Epoch 3/50\n",
            "68/68 [==============================] - 50s 737ms/step - loss: 1.1388 - accuracy: 0.4839 - val_loss: 1.0523 - val_accuracy: 0.5526\n",
            "Epoch 4/50\n",
            "68/68 [==============================] - 52s 770ms/step - loss: 1.0270 - accuracy: 0.5409 - val_loss: 0.9766 - val_accuracy: 0.5751\n",
            "Epoch 5/50\n",
            "68/68 [==============================] - 55s 812ms/step - loss: 0.9053 - accuracy: 0.6086 - val_loss: 0.9999 - val_accuracy: 0.5118\n",
            "Epoch 6/50\n",
            "68/68 [==============================] - 50s 731ms/step - loss: 0.8990 - accuracy: 0.6086 - val_loss: 0.8270 - val_accuracy: 0.6470\n",
            "Epoch 7/50\n",
            "68/68 [==============================] - ETA: 0s - loss: 0.7932 - accuracy: 0.6605Epoch 8/50\n",
            "68/68 [==============================] - 55s 816ms/step - loss: 0.8114 - accuracy: 0.6573 - val_loss: 0.9769 - val_accuracy: 0.6019\n",
            "Epoch 9/50\n",
            "68/68 [==============================] - 49s 718ms/step - loss: 0.7376 - accuracy: 0.7052 - val_loss: 0.7195 - val_accuracy: 0.6888\n",
            "Epoch 10/50\n",
            "68/68 [==============================] - 51s 758ms/step - loss: 0.7381 - accuracy: 0.6831 - val_loss: 0.7741 - val_accuracy: 0.6663\n",
            "Epoch 11/50\n",
            "68/68 [==============================] - 50s 734ms/step - loss: 0.6909 - accuracy: 0.7180 - val_loss: 0.7273 - val_accuracy: 0.6931\n",
            "Epoch 12/50\n",
            "68/68 [==============================] - 55s 812ms/step - loss: 0.6409 - accuracy: 0.7364 - val_loss: 0.6164 - val_accuracy: 0.7371\n",
            "Epoch 13/50\n",
            "68/68 [==============================] - 49s 724ms/step - loss: 0.5931 - accuracy: 0.7516 - val_loss: 0.6020 - val_accuracy: 0.7468\n",
            "Epoch 14/50\n",
            "68/68 [==============================] - 51s 755ms/step - loss: 0.5918 - accuracy: 0.7585 - val_loss: 0.6481 - val_accuracy: 0.7200\n",
            "Epoch 15/50\n",
            "68/68 [==============================] - 49s 724ms/step - loss: 0.6389 - accuracy: 0.7443 - val_loss: 0.5892 - val_accuracy: 0.7607\n",
            "Epoch 16/50\n",
            "68/68 [==============================] - 57s 842ms/step - loss: 0.5536 - accuracy: 0.7700 - val_loss: 0.5635 - val_accuracy: 0.7661\n",
            "Epoch 17/50\n",
            "68/68 [==============================] - 57s 849ms/step - loss: 0.5275 - accuracy: 0.7843 - val_loss: 0.5163 - val_accuracy: 0.7983\n",
            "Epoch 18/50\n",
            "68/68 [==============================] - 56s 835ms/step - loss: 0.5317 - accuracy: 0.7843 - val_loss: 0.6451 - val_accuracy: 0.7189\n",
            "Epoch 19/50\n",
            "68/68 [==============================] - 50s 739ms/step - loss: 0.4858 - accuracy: 0.8040 - val_loss: 0.4594 - val_accuracy: 0.8187\n",
            "Epoch 20/50\n",
            "68/68 [==============================] - 51s 745ms/step - loss: 0.4699 - accuracy: 0.8132 - val_loss: 0.5080 - val_accuracy: 0.7972\n",
            "Epoch 21/50\n",
            "68/68 [==============================] - 49s 730ms/step - loss: 0.4788 - accuracy: 0.8045 - val_loss: 0.4898 - val_accuracy: 0.8251\n",
            "Epoch 22/50\n",
            "68/68 [==============================] - 54s 801ms/step - loss: 0.4300 - accuracy: 0.8339 - val_loss: 0.4796 - val_accuracy: 0.8165\n",
            "Epoch 23/50\n",
            "68/68 [==============================] - 49s 728ms/step - loss: 0.4211 - accuracy: 0.8330 - val_loss: 0.4976 - val_accuracy: 0.8240\n",
            "Epoch 24/50\n",
            "68/68 [==============================] - 52s 761ms/step - loss: 0.3993 - accuracy: 0.8491 - val_loss: 0.4833 - val_accuracy: 0.8069\n",
            "Epoch 25/50\n",
            "68/68 [==============================] - 51s 754ms/step - loss: 0.4050 - accuracy: 0.8413 - val_loss: 0.5297 - val_accuracy: 0.8112\n",
            "Epoch 26/50\n",
            "68/68 [==============================] - 57s 850ms/step - loss: 0.3973 - accuracy: 0.8418 - val_loss: 0.4285 - val_accuracy: 0.8348\n",
            "Epoch 27/50\n",
            "68/68 [==============================] - 52s 762ms/step - loss: 0.3781 - accuracy: 0.8523 - val_loss: 0.4286 - val_accuracy: 0.8305\n",
            "Epoch 28/50\n",
            "68/68 [==============================] - 52s 763ms/step - loss: 0.3432 - accuracy: 0.8689 - val_loss: 0.4106 - val_accuracy: 0.8616\n",
            "Epoch 29/50\n",
            "68/68 [==============================] - 49s 728ms/step - loss: 0.3712 - accuracy: 0.8500 - val_loss: 0.4367 - val_accuracy: 0.8165\n",
            "Epoch 30/50\n",
            "68/68 [==============================] - 57s 837ms/step - loss: 0.3654 - accuracy: 0.8556 - val_loss: 0.4172 - val_accuracy: 0.8433\n",
            "Epoch 31/50\n",
            "68/68 [==============================] - 49s 731ms/step - loss: 0.3506 - accuracy: 0.8680 - val_loss: 0.4712 - val_accuracy: 0.8305\n",
            "Epoch 32/50\n",
            "68/68 [==============================] - 50s 743ms/step - loss: 0.3276 - accuracy: 0.8735 - val_loss: 0.4361 - val_accuracy: 0.8412\n",
            "Epoch 33/50\n",
            "68/68 [==============================] - 50s 731ms/step - loss: 0.3403 - accuracy: 0.8698 - val_loss: 0.4571 - val_accuracy: 0.8305\n",
            "Epoch 34/50\n",
            "68/68 [==============================] - 50s 732ms/step - loss: 0.3320 - accuracy: 0.8684 - val_loss: 0.4206 - val_accuracy: 0.8423\n",
            "Epoch 35/50\n",
            "68/68 [==============================] - 56s 828ms/step - loss: 0.3381 - accuracy: 0.8675 - val_loss: 0.3821 - val_accuracy: 0.8670\n",
            "Epoch 36/50\n",
            "68/68 [==============================] - 56s 821ms/step - loss: 0.2598 - accuracy: 0.9034 - val_loss: 0.3343 - val_accuracy: 0.8809\n",
            "Epoch 37/50\n",
            "68/68 [==============================] - 51s 750ms/step - loss: 0.2712 - accuracy: 0.8947 - val_loss: 0.3864 - val_accuracy: 0.8476\n",
            "Epoch 38/50\n",
            "68/68 [==============================] - 57s 847ms/step - loss: 0.2439 - accuracy: 0.9016 - val_loss: 0.3736 - val_accuracy: 0.8691\n",
            "Epoch 39/50\n",
            "68/68 [==============================] - 56s 832ms/step - loss: 0.2437 - accuracy: 0.9052 - val_loss: 0.3494 - val_accuracy: 0.8863\n",
            "Epoch 40/50\n",
            "68/68 [==============================] - 55s 820ms/step - loss: 0.2630 - accuracy: 0.8993 - val_loss: 0.3718 - val_accuracy: 0.8798\n",
            "Epoch 41/50\n",
            "68/68 [==============================] - 57s 837ms/step - loss: 0.2449 - accuracy: 0.9085 - val_loss: 0.4399 - val_accuracy: 0.8509\n",
            "Epoch 42/50\n",
            "68/68 [==============================] - 56s 829ms/step - loss: 0.2716 - accuracy: 0.9006 - val_loss: 0.3896 - val_accuracy: 0.8584\n",
            "Epoch 43/50\n",
            "68/68 [==============================] - 49s 729ms/step - loss: 0.2444 - accuracy: 0.9098 - val_loss: 0.3596 - val_accuracy: 0.8659\n",
            "Epoch 44/50\n",
            "68/68 [==============================] - 51s 753ms/step - loss: 0.2517 - accuracy: 0.9020 - val_loss: 0.3811 - val_accuracy: 0.8659\n",
            "Epoch 45/50\n",
            "68/68 [==============================] - 49s 726ms/step - loss: 0.2238 - accuracy: 0.9200 - val_loss: 0.3679 - val_accuracy: 0.8680\n",
            "Epoch 46/50\n",
            "68/68 [==============================] - 50s 739ms/step - loss: 0.2618 - accuracy: 0.8983 - val_loss: 0.3603 - val_accuracy: 0.8670\n",
            "Epoch 47/50\n",
            "68/68 [==============================] - 50s 736ms/step - loss: 0.2427 - accuracy: 0.9043 - val_loss: 0.3191 - val_accuracy: 0.8895\n",
            "Epoch 48/50\n",
            "68/68 [==============================] - 49s 723ms/step - loss: 0.2513 - accuracy: 0.9029 - val_loss: 0.3630 - val_accuracy: 0.8712\n",
            "Epoch 49/50\n",
            "68/68 [==============================] - 57s 844ms/step - loss: 0.2191 - accuracy: 0.9227 - val_loss: 0.3573 - val_accuracy: 0.8594\n",
            "Epoch 50/50\n",
            "68/68 [==============================] - 51s 756ms/step - loss: 0.2163 - accuracy: 0.9186 - val_loss: 0.3760 - val_accuracy: 0.8798\n"
          ]
        },
        {
          "output_type": "execute_result",
          "data": {
            "text/plain": [
              "<keras.src.callbacks.History at 0x7d7defd722c0>"
            ]
          },
          "metadata": {},
          "execution_count": 10
        }
      ]
    },
    {
      "cell_type": "code",
      "source": [
        "y_pred = np.argmax(model.predict(x_test/255), axis=1)\n",
        "\n",
        "from sklearn.metrics import classification_report, confusion_matrix\n",
        "\n",
        "print(classification_report(y_test, y_pred))"
      ],
      "metadata": {
        "colab": {
          "base_uri": "https://localhost:8080/"
        },
        "id": "IUfmVjOmJkGX",
        "outputId": "1598d7f6-ca1d-4ce3-9791-f36a1eba038d"
      },
      "execution_count": null,
      "outputs": [
        {
          "output_type": "stream",
          "name": "stdout",
          "text": [
            "30/30 [==============================] - 1s 25ms/step\n",
            "              precision    recall  f1-score   support\n",
            "\n",
            "           0       0.96      0.82      0.88       287\n",
            "           1       0.86      0.81      0.84       263\n",
            "           2       0.91      0.97      0.94       117\n",
            "           3       0.82      0.98      0.89       265\n",
            "\n",
            "    accuracy                           0.88       932\n",
            "   macro avg       0.89      0.90      0.89       932\n",
            "weighted avg       0.89      0.88      0.88       932\n",
            "\n"
          ]
        }
      ]
    },
    {
      "cell_type": "code",
      "source": [
        "import seaborn as sn\n",
        "\n",
        "cm = confusion_matrix(y_test, y_pred)\n",
        "plt.figure(figsize=(7,5))\n",
        "sn.heatmap(cm, annot=True)\n",
        "plt.xlabel('Predik')\n",
        "plt.ylabel('Truth')\n",
        "plt.title('Perbadingan Predik vs Truth')\n",
        "plt.legend()"
      ],
      "metadata": {
        "id": "_C0_G9reJ8Zt",
        "colab": {
          "base_uri": "https://localhost:8080/",
          "height": 542
        },
        "outputId": "02489195-2261-4137-f8b8-4d2b75a14bdb"
      },
      "execution_count": null,
      "outputs": [
        {
          "output_type": "stream",
          "name": "stderr",
          "text": [
            "WARNING:matplotlib.legend:No artists with labels found to put in legend.  Note that artists whose label start with an underscore are ignored when legend() is called with no argument.\n"
          ]
        },
        {
          "output_type": "execute_result",
          "data": {
            "text/plain": [
              "<matplotlib.legend.Legend at 0x7d7de097df00>"
            ]
          },
          "metadata": {},
          "execution_count": 12
        },
        {
          "output_type": "display_data",
          "data": {
            "text/plain": [
              "<Figure size 700x500 with 2 Axes>"
            ],
            "image/png": "[encoded data removed]"
          },
          "metadata": {}
        }
      ]
    },
    {
      "cell_type": "code",
      "source": [
        "model.save('Brain_tumor.h5')"
      ],
      "metadata": {
        "id": "VV7EAaOzDXEA",
        "colab": {
          "base_uri": "https://localhost:8080/"
        },
        "outputId": "79d5160d-0e35-4df0-8200-315d5c0baf35"
      },
      "execution_count": null,
      "outputs": [
        {
          "output_type": "stream",
          "name": "stderr",
          "text": [
            "/usr/local/lib/python3.10/dist-packages/keras/src/engine/training.py:3000: UserWarning: You are saving your model as an HDF5 file via `model.save()`. This file format is considered legacy. We recommend using instead the native Keras format, e.g. `model.save('my_model.keras')`.\n",
            "  saving_api.save_model(\n"
          ]
        }
      ]
    },
    {
      "cell_type": "code",
      "source": [
        "pip install tensorflow-model-optimization"
      ],
      "metadata": {
        "id": "nU-a8l3DDld2",
        "colab": {
          "base_uri": "https://localhost:8080/"
        },
        "outputId": "3e9b274d-7cb7-4b3f-d297-0e4bafd4e504"
      },
      "execution_count": null,
      "outputs": [
        {
          "output_type": "stream",
          "name": "stdout",
          "text": [
            "Collecting tensorflow-model-optimization\n",
            "  Downloading tensorflow_model_optimization-0.7.5-py2.py3-none-any.whl (241 kB)\n",
            "\u001b[?25l     \u001b[90m━━━━━━━━━━━━━━━━━━━━━━━━━━━━━━━━━━━━━━━━\u001b[0m \u001b[32m0.0/241.2 kB\u001b[0m \u001b[31m?\u001b[0m eta \u001b[36m-:--:--\u001b[0m\r\u001b[2K     \u001b[91m━━━━━━━━━━━━━━━━━━\u001b[0m\u001b[91m╸\u001b[0m\u001b[90m━━━━━━━━━━━━━━━━━━━━━\u001b[0m \u001b[32m112.6/241.2 kB\u001b[0m \u001b[31m3.5 MB/s\u001b[0m eta \u001b[36m0:00:01\u001b[0m\r\u001b[2K     \u001b[90m━━━━━━━━━━━━━━━━━━━━━━━━━━━━━━━━━━━━━━━━\u001b[0m \u001b[32m241.2/241.2 kB\u001b[0m \u001b[31m4.8 MB/s\u001b[0m eta \u001b[36m0:00:00\u001b[0m\n",
            "\u001b[?25hRequirement already satisfied: absl-py~=1.2 in /usr/local/lib/python3.10/dist-packages (from tensorflow-model-optimization) (1.4.0)\n",
            "Requirement already satisfied: dm-tree~=0.1.1 in /usr/local/lib/python3.10/dist-packages (from tensorflow-model-optimization) (0.1.8)\n",
            "Requirement already satisfied: numpy~=1.23 in /usr/local/lib/python3.10/dist-packages (from tensorflow-model-optimization) (1.23.5)\n",
            "Requirement already satisfied: six~=1.14 in /usr/local/lib/python3.10/dist-packages (from tensorflow-model-optimization) (1.16.0)\n",
            "Installing collected packages: tensorflow-model-optimization\n",
            "Successfully installed tensorflow-model-optimization-0.7.5\n"
          ]
        }
      ]
    },
    {
      "cell_type": "code",
      "source": [
        "import tensorflow_model_optimization as tfmot\n",
        "\n",
        "quantize_train = tfmot.quantization.keras.quantize_model(model)\n",
        "quantize_train.compile(\n",
        "    optimizer = 'adam',\n",
        "    loss = keras.losses.SparseCategoricalCrossentropy(),\n",
        "    metrics = ['accuracy']\n",
        ")\n",
        "quantize_train.fit(\n",
        "    train_dataset,\n",
        "    epochs=1,\n",
        "    verbose = 1,\n",
        "    validation_data = valid_dataset\n",
        ")"
      ],
      "metadata": {
        "id": "rigbmZhwDbXV",
        "colab": {
          "base_uri": "https://localhost:8080/"
        },
        "outputId": "ce0a34d5-a446-4819-d6bb-71cee9063bd3"
      },
      "execution_count": null,
      "outputs": [
        {
          "output_type": "stream",
          "name": "stdout",
          "text": [
            "68/68 [==============================] - 58s 779ms/step - loss: 0.2267 - accuracy: 0.9195 - val_loss: 0.3764 - val_accuracy: 0.8723\n"
          ]
        },
        {
          "output_type": "execute_result",
          "data": {
            "text/plain": [
              "<keras.src.callbacks.History at 0x7d7d6297c400>"
            ]
          },
          "metadata": {},
          "execution_count": 16
        }
      ]
    },
    {
      "cell_type": "code",
      "source": [
        "quantize = tf.lite.TFLiteConverter.from_keras_model(quantize_train)\n",
        "quantize.optimizations = [tf.lite.Optimize.DEFAULT]\n",
        "quantize_model = quantize.convert()\n",
        "\n",
        "with open ('Brain_tumor_quantize.tflite', 'wb') as f:\n",
        "  f.write(quantize_model)"
      ],
      "metadata": {
        "id": "iIEn2Le1EQtN",
        "colab": {
          "base_uri": "https://localhost:8080/"
        },
        "outputId": "8f65b854-1ea8-4122-ec40-5047c27cc7ed"
      },
      "execution_count": null,
      "outputs": [
        {
          "output_type": "stream",
          "name": "stderr",
          "text": [
            "/usr/local/lib/python3.10/dist-packages/tensorflow/lite/python/convert.py:887: UserWarning: Statistics for quantized inputs were expected, but not specified; continuing anyway.\n",
            "  warnings.warn(\n"
          ]
        }
      ]
    },
    {
      "cell_type": "code",
      "source": [
        "from google.colab import files\n",
        "files.download('Brain_tumor.h5')\n"
      ],
      "metadata": {
        "id": "SzTioU0ME0Lk",
        "colab": {
          "base_uri": "https://localhost:8080/",
          "height": 17
        },
        "outputId": "4efe943a-87b6-4fef-f156-6961996367c7"
      },
      "execution_count": null,
      "outputs": [
        {
          "output_type": "display_data",
          "data": {
            "text/plain": [
              "<IPython.core.display.Javascript object>"
            ],
            "application/javascript": [
              "\n",
              "    async function download(id, filename, size) {\n",
              "      if (!google.colab.kernel.accessAllowed) {\n",
              "        return;\n",
              "      }\n",
              "      const div = document.createElement('div');\n",
              "      const label = document.createElement('label');\n",
              "      label.textContent = `Downloading \"${filename}\": `;\n",
              "      div.appendChild(label);\n",
              "      const progress = document.createElement('progress');\n",
              "      progress.max = size;\n",
              "      div.appendChild(progress);\n",
              "      document.body.appendChild(div);\n",
              "\n",
              "      const buffers = [];\n",
              "      let downloaded = 0;\n",
              "\n",
              "      const channel = await google.colab.kernel.comms.open(id);\n",
              "      // Send a message to notify the kernel that we're ready.\n",
              "      channel.send({})\n",
              "\n",
              "      for await (const message of channel.messages) {\n",
              "        // Send a message to notify the kernel that we're ready.\n",
              "        channel.send({})\n",
              "        if (message.buffers) {\n",
              "          for (const buffer of message.buffers) {\n",
              "            buffers.push(buffer);\n",
              "            downloaded += buffer.byteLength;\n",
              "            progress.value = downloaded;\n",
              "          }\n",
              "        }\n",
              "      }\n",
              "      const blob = new Blob(buffers, {type: 'application/binary'});\n",
              "      const a = document.createElement('a');\n",
              "      a.href = window.URL.createObjectURL(blob);\n",
              "      a.download = filename;\n",
              "      div.appendChild(a);\n",
              "      a.click();\n",
              "      div.remove();\n",
              "    }\n",
              "  "
            ]
          },
          "metadata": {}
        },
        {
          "output_type": "display_data",
          "data": {
            "text/plain": [
              "<IPython.core.display.Javascript object>"
            ],
            "application/javascript": [
              "download(\"download_fb9b96d2-ac35-4db3-9260-7d72c9e0a311\", \"Brain_tumor.h5\", 157367024)"
            ]
          },
          "metadata": {}
        }
      ]
    },
    {
      "cell_type": "code",
      "source": [
        "from google.colab import files\n",
        "files.download('Brain_tumor_quantize.tflite')\n"
      ],
      "metadata": {
        "id": "WoK1jOUhE0y0",
        "colab": {
          "base_uri": "https://localhost:8080/",
          "height": 17
        },
        "outputId": "c6061285-1aaf-4be9-c339-6f193af41cc2"
      },
      "execution_count": null,
      "outputs": [
        {
          "output_type": "display_data",
          "data": {
            "text/plain": [
              "<IPython.core.display.Javascript object>"
            ],
            "application/javascript": [
              "\n",
              "    async function download(id, filename, size) {\n",
              "      if (!google.colab.kernel.accessAllowed) {\n",
              "        return;\n",
              "      }\n",
              "      const div = document.createElement('div');\n",
              "      const label = document.createElement('label');\n",
              "      label.textContent = `Downloading \"${filename}\": `;\n",
              "      div.appendChild(label);\n",
              "      const progress = document.createElement('progress');\n",
              "      progress.max = size;\n",
              "      div.appendChild(progress);\n",
              "      document.body.appendChild(div);\n",
              "\n",
              "      const buffers = [];\n",
              "      let downloaded = 0;\n",
              "\n",
              "      const channel = await google.colab.kernel.comms.open(id);\n",
              "      // Send a message to notify the kernel that we're ready.\n",
              "      channel.send({})\n",
              "\n",
              "      for await (const message of channel.messages) {\n",
              "        // Send a message to notify the kernel that we're ready.\n",
              "        channel.send({})\n",
              "        if (message.buffers) {\n",
              "          for (const buffer of message.buffers) {\n",
              "            buffers.push(buffer);\n",
              "            downloaded += buffer.byteLength;\n",
              "            progress.value = downloaded;\n",
              "          }\n",
              "        }\n",
              "      }\n",
              "      const blob = new Blob(buffers, {type: 'application/binary'});\n",
              "      const a = document.createElement('a');\n",
              "      a.href = window.URL.createObjectURL(blob);\n",
              "      a.download = filename;\n",
              "      div.appendChild(a);\n",
              "      a.click();\n",
              "      div.remove();\n",
              "    }\n",
              "  "
            ]
          },
          "metadata": {}
        },
        {
          "output_type": "display_data",
          "data": {
            "text/plain": [
              "<IPython.core.display.Javascript object>"
            ],
            "application/javascript": [
              "download(\"download_ab099355-ddc8-4d95-9db1-40f7b27ee591\", \"Brain_tumor_quantize.tflite\", 13125296)"
            ]
          },
          "metadata": {}
        }
      ]
    }
  ]
}